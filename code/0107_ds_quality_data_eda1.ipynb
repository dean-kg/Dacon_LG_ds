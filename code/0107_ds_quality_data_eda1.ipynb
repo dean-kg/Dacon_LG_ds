{
 "cells": [
  {
   "cell_type": "code",
   "execution_count": 127,
   "metadata": {},
   "outputs": [
    {
     "data": {
      "text/html": [
       "<style>.container { width:80% !important; }</style>"
      ],
      "text/plain": [
       "<IPython.core.display.HTML object>"
      ]
     },
     "metadata": {},
     "output_type": "display_data"
    }
   ],
   "source": [
    "import os\n",
    "import glob\n",
    "import pandas as pd\n",
    "import numpy as np\n",
    "import matplotlib.pyplot as plt\n",
    "import seaborn as sns\n",
    "import missingno as msno\n",
    "from IPython.core.display import display, HTML\n",
    "display(HTML(\"<style>.container { width:80% !important; }</style>\"))"
   ]
  },
  {
   "cell_type": "code",
   "execution_count": 262,
   "metadata": {},
   "outputs": [
    {
     "data": {
      "text/plain": [
       "['train_quality_data.csv',\n",
       " 'train_problem_data.csv',\n",
       " 'test_err_data.csv',\n",
       " 'sample_submission.csv',\n",
       " 'test_quality_data.csv',\n",
       " 'train_err_data.csv']"
      ]
     },
     "execution_count": 262,
     "metadata": {},
     "output_type": "execute_result"
    }
   ],
   "source": [
    "os.listdir(\"../data\")"
   ]
  },
  {
   "cell_type": "code",
   "execution_count": 90,
   "metadata": {},
   "outputs": [
    {
     "name": "stderr",
     "output_type": "stream",
     "text": [
      "/usr/local/lib/python3.6/dist-packages/IPython/core/interactiveshell.py:3072: DtypeWarning: Columns (10,11,12) have mixed types.Specify dtype option on import or set low_memory=False.\n",
      "  interactivity=interactivity, compiler=compiler, result=result)\n",
      "/usr/local/lib/python3.6/dist-packages/IPython/core/interactiveshell.py:3072: DtypeWarning: Columns (4,11,12) have mixed types.Specify dtype option on import or set low_memory=False.\n",
      "  interactivity=interactivity, compiler=compiler, result=result)\n"
     ]
    },
    {
     "name": "stdout",
     "output_type": "stream",
     "text": [
      "(828624, 16) (747972, 16)\n"
     ]
    },
    {
     "data": {
      "text/plain": [
       "(1576596, 17)"
      ]
     },
     "execution_count": 90,
     "metadata": {},
     "output_type": "execute_result"
    }
   ],
   "source": [
    "trq =pd.read_csv('../data/train_quality_data.csv')\n",
    "tsq =pd.read_csv('../data/test_quality_data.csv')\n",
    "print(trq.shape,tsq.shape)\n",
    "\n",
    "trq['data']=0\n",
    "tsq['data']=1\n",
    "\n",
    "total = pd.concat([trq,tsq])\n",
    "total.shape\n",
    "# columns 10,11,12 에 해당하는 데이터 에러 \n",
    "# "
   ]
  },
  {
   "cell_type": "code",
   "execution_count": 91,
   "metadata": {
    "scrolled": false
   },
   "outputs": [
    {
     "name": "stdout",
     "output_type": "stream",
     "text": [
      "<class 'pandas.core.frame.DataFrame'>\n",
      "Int64Index: 1576596 entries, 0 to 747971\n",
      "Data columns (total 17 columns):\n",
      " #   Column      Non-Null Count    Dtype  \n",
      "---  ------      --------------    -----  \n",
      " 0   time        1576596 non-null  int64  \n",
      " 1   user_id     1576596 non-null  int64  \n",
      " 2   fwver       1513752 non-null  object \n",
      " 3   quality_0   1325580 non-null  float64\n",
      " 4   quality_1   1576585 non-null  object \n",
      " 5   quality_2   1515368 non-null  float64\n",
      " 6   quality_3   1576596 non-null  int64  \n",
      " 7   quality_4   1576596 non-null  int64  \n",
      " 8   quality_5   1576532 non-null  object \n",
      " 9   quality_6   1576596 non-null  int64  \n",
      " 10  quality_7   1576596 non-null  object \n",
      " 11  quality_8   1576596 non-null  object \n",
      " 12  quality_9   1576596 non-null  object \n",
      " 13  quality_10  1576596 non-null  object \n",
      " 14  quality_11  1576596 non-null  int64  \n",
      " 15  quality_12  1576596 non-null  int64  \n",
      " 16  data        1576596 non-null  int64  \n",
      "dtypes: float64(2), int64(8), object(7)\n",
      "memory usage: 216.5+ MB\n"
     ]
    }
   ],
   "source": [
    "total.info()"
   ]
  },
  {
   "cell_type": "markdown",
   "metadata": {},
   "source": [
    "columns dtype에 따른분류"
   ]
  },
  {
   "cell_type": "code",
   "execution_count": 93,
   "metadata": {},
   "outputs": [
    {
     "name": "stdout",
     "output_type": "stream",
     "text": [
      "object_columns :  ['fwver', 'quality_1', 'quality_5', 'quality_7', 'quality_8', 'quality_9', 'quality_10']\n",
      "numeric_columns :  ['time', 'user_id', 'quality_0', 'quality_2', 'quality_3', 'quality_4', 'quality_6', 'quality_11', 'quality_12', 'data']\n"
     ]
    }
   ],
   "source": [
    "object_columns = total.select_dtypes(include=['object']).columns\n",
    "numeric_columns = total.select_dtypes(include=['number']).columns\n",
    "print(\"object_columns : \",list(object_columns))\n",
    "print(\"numeric_columns : \",list(numeric_columns))"
   ]
  },
  {
   "cell_type": "markdown",
   "metadata": {},
   "source": [
    "object 데이터 중 '1,234'와 같은 1000의 자리 숫자를 표현한 데이터가 존재 이를 변환 후 데이터 타입 float형태로 수정"
   ]
  },
  {
   "cell_type": "code",
   "execution_count": 94,
   "metadata": {
    "scrolled": true
   },
   "outputs": [
    {
     "name": "stdout",
     "output_type": "stream",
     "text": [
      "fwver  error\n"
     ]
    }
   ],
   "source": [
    "for column in object_columns:\n",
    "    try:\n",
    "        total[column] =total[column].str.replace(\",\",\"\").astype(\"float\")\n",
    "    except:\n",
    "        print(column , \" error\")"
   ]
  },
  {
   "cell_type": "markdown",
   "metadata": {},
   "source": [
    "최종 column dtype 확인"
   ]
  },
  {
   "cell_type": "code",
   "execution_count": 95,
   "metadata": {},
   "outputs": [
    {
     "name": "stdout",
     "output_type": "stream",
     "text": [
      "object_columns :  ['fwver']\n",
      "numeric_columns :  ['time', 'user_id', 'quality_0', 'quality_1', 'quality_2', 'quality_3', 'quality_4', 'quality_5', 'quality_6', 'quality_7', 'quality_8', 'quality_9', 'quality_10', 'quality_11', 'quality_12']\n"
     ]
    }
   ],
   "source": [
    "object_columns = tq.select_dtypes(include=['object']).columns\n",
    "numeric_columns = tq.select_dtypes(include=['number']).columns\n",
    "print(\"object_columns : \",list(object_columns))\n",
    "print(\"numeric_columns : \",list(numeric_columns))"
   ]
  },
  {
   "cell_type": "code",
   "execution_count": 118,
   "metadata": {},
   "outputs": [
    {
     "data": {
      "text/plain": [
       "time                0\n",
       "user_id             0\n",
       "fwver           62844\n",
       "quality_0      251016\n",
       "quality_1     1543839\n",
       "quality_2       61228\n",
       "quality_3           0\n",
       "quality_4           0\n",
       "quality_5          64\n",
       "quality_6           0\n",
       "quality_7        9424\n",
       "quality_8     1478292\n",
       "quality_9      331412\n",
       "quality_10          0\n",
       "quality_11          0\n",
       "quality_12          0\n",
       "data                0\n",
       "dtype: int64"
      ]
     },
     "execution_count": 118,
     "metadata": {},
     "output_type": "execute_result"
    }
   ],
   "source": [
    "total.isnull().sum()"
   ]
  },
  {
   "cell_type": "markdown",
   "metadata": {},
   "source": [
    "## 결측치확인"
   ]
  },
  {
   "cell_type": "code",
   "execution_count": 128,
   "metadata": {},
   "outputs": [
    {
     "data": {
      "text/plain": [
       "<AxesSubplot:>"
      ]
     },
     "execution_count": 128,
     "metadata": {},
     "output_type": "execute_result"
    },
    {
     "data": {
      "image/png": "[encoded data removed]",
      "text/plain": [
       "<Figure size 1800x720 with 2 Axes>"
      ]
     },
     "metadata": {
      "needs_background": "light"
     },
     "output_type": "display_data"
    }
   ],
   "source": [
    "msno.matrix(df=total, color=(0.1, 0.6, 0.8))"
   ]
  },
  {
   "cell_type": "markdown",
   "metadata": {},
   "source": [
    "절반을 기준으로 위쪽은 train , 아래쪽은 test 데이터이다    \n",
    "quality_1의 변수의 경우 test 데이터에만 존재한다 -> 데이터 불균형으로 인한 크리티컬한 변수가 될 수 있음    \n",
    "quality_8의 경우에도 test 데이터에만 조금더 많이 데이터가 존재하는 양상을 보인다."
   ]
  },
  {
   "cell_type": "markdown",
   "metadata": {},
   "source": [
    "## user_id"
   ]
  },
  {
   "cell_type": "markdown",
   "metadata": {},
   "source": [
    "user_id의 train , test 셋의 갯수와 min ,max값을 확인"
   ]
  },
  {
   "cell_type": "code",
   "execution_count": 265,
   "metadata": {},
   "outputs": [
    {
     "name": "stdout",
     "output_type": "stream",
     "text": [
      "train user_id len :  8281\n",
      "user_id min : 10000   max:  24997\n",
      "test user_id len :  8268\n",
      "user_id min : 30000   max:  44997\n"
     ]
    }
   ],
   "source": [
    "print(\"train user_id len : \",len(trq.user_id.unique()))\n",
    "print(\"user_id min :\",min(trq.user_id),\"  max: \",max(trq.user_id))\n",
    "\n",
    "print(\"test user_id len : \",len(tsq.user_id.unique()))\n",
    "print(\"user_id min :\",min(tsq.user_id),\"  max: \",max(tsq.user_id))"
   ]
  },
  {
   "cell_type": "markdown",
   "metadata": {},
   "source": [
    "각각의 user_id의 value_count"
   ]
  },
  {
   "cell_type": "code",
   "execution_count": 167,
   "metadata": {
    "scrolled": true
   },
   "outputs": [
    {
     "data": {
      "text/html": [
       "<div>\n",
       "<style scoped>\n",
       "    .dataframe tbody tr th:only-of-type {\n",
       "        vertical-align: middle;\n",
       "    }\n",
       "\n",
       "    .dataframe tbody tr th {\n",
       "        vertical-align: top;\n",
       "    }\n",
       "\n",
       "    .dataframe thead th {\n",
       "        text-align: right;\n",
       "    }\n",
       "</style>\n",
       "<table border=\"1\" class=\"dataframe\">\n",
       "  <thead>\n",
       "    <tr style=\"text-align: right;\">\n",
       "      <th></th>\n",
       "      <th>user_id</th>\n",
       "      <th>time</th>\n",
       "      <th>data</th>\n",
       "    </tr>\n",
       "  </thead>\n",
       "  <tbody>\n",
       "    <tr>\n",
       "      <th>0</th>\n",
       "      <td>10000</td>\n",
       "      <td>24</td>\n",
       "      <td>0</td>\n",
       "    </tr>\n",
       "    <tr>\n",
       "      <th>1</th>\n",
       "      <td>10002</td>\n",
       "      <td>96</td>\n",
       "      <td>0</td>\n",
       "    </tr>\n",
       "    <tr>\n",
       "      <th>2</th>\n",
       "      <td>10004</td>\n",
       "      <td>24</td>\n",
       "      <td>0</td>\n",
       "    </tr>\n",
       "    <tr>\n",
       "      <th>3</th>\n",
       "      <td>10005</td>\n",
       "      <td>24</td>\n",
       "      <td>0</td>\n",
       "    </tr>\n",
       "    <tr>\n",
       "      <th>4</th>\n",
       "      <td>10006</td>\n",
       "      <td>36</td>\n",
       "      <td>0</td>\n",
       "    </tr>\n",
       "  </tbody>\n",
       "</table>\n",
       "</div>"
      ],
      "text/plain": [
       "   user_id  time  data\n",
       "0    10000    24     0\n",
       "1    10002    96     0\n",
       "2    10004    24     0\n",
       "3    10005    24     0\n",
       "4    10006    36     0"
      ]
     },
     "execution_count": 167,
     "metadata": {},
     "output_type": "execute_result"
    }
   ],
   "source": [
    "user_id_count = pd.merge(total.groupby('user_id').count()['time'].to_frame().reset_index(),total[['user_id','data']].drop_duplicates().reset_index(drop=True))\n",
    "user_id_count.head()"
   ]
  },
  {
   "cell_type": "code",
   "execution_count": 176,
   "metadata": {
    "scrolled": true
   },
   "outputs": [
    {
     "data": {
      "text/html": [
       "<div>\n",
       "<style scoped>\n",
       "    .dataframe tbody tr th:only-of-type {\n",
       "        vertical-align: middle;\n",
       "    }\n",
       "\n",
       "    .dataframe tbody tr th {\n",
       "        vertical-align: top;\n",
       "    }\n",
       "\n",
       "    .dataframe thead th {\n",
       "        text-align: right;\n",
       "    }\n",
       "</style>\n",
       "<table border=\"1\" class=\"dataframe\">\n",
       "  <thead>\n",
       "    <tr style=\"text-align: right;\">\n",
       "      <th></th>\n",
       "      <th>time</th>\n",
       "    </tr>\n",
       "  </thead>\n",
       "  <tbody>\n",
       "    <tr>\n",
       "      <th>count</th>\n",
       "      <td>8281.000000</td>\n",
       "    </tr>\n",
       "    <tr>\n",
       "      <th>mean</th>\n",
       "      <td>100.063277</td>\n",
       "    </tr>\n",
       "    <tr>\n",
       "      <th>std</th>\n",
       "      <td>269.316318</td>\n",
       "    </tr>\n",
       "    <tr>\n",
       "      <th>min</th>\n",
       "      <td>12.000000</td>\n",
       "    </tr>\n",
       "    <tr>\n",
       "      <th>25%</th>\n",
       "      <td>12.000000</td>\n",
       "    </tr>\n",
       "    <tr>\n",
       "      <th>50%</th>\n",
       "      <td>24.000000</td>\n",
       "    </tr>\n",
       "    <tr>\n",
       "      <th>75%</th>\n",
       "      <td>72.000000</td>\n",
       "    </tr>\n",
       "    <tr>\n",
       "      <th>max</th>\n",
       "      <td>4224.000000</td>\n",
       "    </tr>\n",
       "  </tbody>\n",
       "</table>\n",
       "</div>"
      ],
      "text/plain": [
       "              time\n",
       "count  8281.000000\n",
       "mean    100.063277\n",
       "std     269.316318\n",
       "min      12.000000\n",
       "25%      12.000000\n",
       "50%      24.000000\n",
       "75%      72.000000\n",
       "max    4224.000000"
      ]
     },
     "execution_count": 176,
     "metadata": {},
     "output_type": "execute_result"
    }
   ],
   "source": [
    "user_id_count.loc[user_id_count.data ==0]['time'].describe().to_frame()"
   ]
  },
  {
   "cell_type": "code",
   "execution_count": 175,
   "metadata": {},
   "outputs": [
    {
     "data": {
      "text/html": [
       "<div>\n",
       "<style scoped>\n",
       "    .dataframe tbody tr th:only-of-type {\n",
       "        vertical-align: middle;\n",
       "    }\n",
       "\n",
       "    .dataframe tbody tr th {\n",
       "        vertical-align: top;\n",
       "    }\n",
       "\n",
       "    .dataframe thead th {\n",
       "        text-align: right;\n",
       "    }\n",
       "</style>\n",
       "<table border=\"1\" class=\"dataframe\">\n",
       "  <thead>\n",
       "    <tr style=\"text-align: right;\">\n",
       "      <th></th>\n",
       "      <th>time</th>\n",
       "    </tr>\n",
       "  </thead>\n",
       "  <tbody>\n",
       "    <tr>\n",
       "      <th>count</th>\n",
       "      <td>8268.000000</td>\n",
       "    </tr>\n",
       "    <tr>\n",
       "      <th>mean</th>\n",
       "      <td>90.465893</td>\n",
       "    </tr>\n",
       "    <tr>\n",
       "      <th>std</th>\n",
       "      <td>222.273187</td>\n",
       "    </tr>\n",
       "    <tr>\n",
       "      <th>min</th>\n",
       "      <td>12.000000</td>\n",
       "    </tr>\n",
       "    <tr>\n",
       "      <th>25%</th>\n",
       "      <td>12.000000</td>\n",
       "    </tr>\n",
       "    <tr>\n",
       "      <th>50%</th>\n",
       "      <td>24.000000</td>\n",
       "    </tr>\n",
       "    <tr>\n",
       "      <th>75%</th>\n",
       "      <td>72.000000</td>\n",
       "    </tr>\n",
       "    <tr>\n",
       "      <th>max</th>\n",
       "      <td>3792.000000</td>\n",
       "    </tr>\n",
       "  </tbody>\n",
       "</table>\n",
       "</div>"
      ],
      "text/plain": [
       "              time\n",
       "count  8268.000000\n",
       "mean     90.465893\n",
       "std     222.273187\n",
       "min      12.000000\n",
       "25%      12.000000\n",
       "50%      24.000000\n",
       "75%      72.000000\n",
       "max    3792.000000"
      ]
     },
     "execution_count": 175,
     "metadata": {},
     "output_type": "execute_result"
    }
   ],
   "source": [
    "user_id_count.loc[user_id_count.data ==1]['time'].describe().to_frame()"
   ]
  },
  {
   "cell_type": "code",
   "execution_count": 220,
   "metadata": {},
   "outputs": [
    {
     "data": {
      "image/png": "[encoded data removed]",
      "text/plain": [
       "<Figure size 720x720 with 4 Axes>"
      ]
     },
     "metadata": {
      "needs_background": "light"
     },
     "output_type": "display_data"
    }
   ],
   "source": [
    "fig , axs  = plt.subplots(2,2,figsize=(10,10))\n",
    "\n",
    "train_user_count =user_id_count.loc[user_id_count.data ==0]['time']\n",
    "test_user_count =user_id_count.loc[user_id_count.data ==1]['time']\n",
    "\n",
    "inxr = int(len(user_id_count.loc[user_id_count.data ==0]['time'])*0.75) \n",
    "usert75 = user_id_count.loc[user_id_count.data ==0]['time'].sort_values()[:inxr]\n",
    "\n",
    "inxs = int(len(user_id_count.loc[user_id_count.data ==1]['time'])*0.75) \n",
    "users75 = user_id_count.loc[user_id_count.data ==1]['time'].sort_values()[:inxs]\n",
    "\n",
    "axs[0,0].boxplot(train_user_count.values)\n",
    "axs[0,0].set_xticklabels(['train_data'])\n",
    "axs[0,0].set_title(\"each user_id counts\")\n",
    "\n",
    "axs[0,1].boxplot(usert75.values)\n",
    "axs[0,1].set_xticklabels(['train_data'])\n",
    "axs[0,1].set_title(\"each user_id counts (75%)\")\n",
    "\n",
    "axs[1,0].boxplot(test_user_count.values)\n",
    "axs[1,0].set_xticklabels(['test_data'])\n",
    "axs[1,0].set_title(\"each user_id counts\")\n",
    "\n",
    "axs[1,1].boxplot(users75.values)\n",
    "axs[1,1].set_xticklabels(['test_data'])\n",
    "axs[1,1].set_title(\"each user_id counts (75%)\")\n",
    "plt.show()"
   ]
  },
  {
   "cell_type": "markdown",
   "metadata": {},
   "source": [
    "유저 아이디의 count 갯수 분포가 test, train 유사하다 ->  파생변수로 생성 가능"
   ]
  },
  {
   "cell_type": "code",
   "execution_count": 229,
   "metadata": {},
   "outputs": [
    {
     "data": {
      "text/plain": [
       "(0, 0)"
      ]
     },
     "execution_count": 229,
     "metadata": {},
     "output_type": "execute_result"
    }
   ],
   "source": [
    "tct = train_user_count.to_frame()\n",
    "tct['rest'] = tct['time']%12\n",
    "\n",
    "tcs = test_user_count.to_frame()\n",
    "tcs['rest'] = tcs['time']%12\n",
    "\n",
    "len(tct.loc[tct['rest']!=0]) ,len(tcs.loc[tcs['rest']!=0])"
   ]
  },
  {
   "cell_type": "markdown",
   "metadata": {},
   "source": [
    "각 유저별 갯수가 12개씩 동일 -> 하루 로그 예상 (2시간 or 1시간 간격)"
   ]
  },
  {
   "cell_type": "markdown",
   "metadata": {},
   "source": [
    "# TIME EDA"
   ]
  },
  {
   "cell_type": "code",
   "execution_count": 259,
   "metadata": {},
   "outputs": [
    {
     "name": "stdout",
     "output_type": "stream",
     "text": [
      "time 길이가 14가 아닌 것의 갯수 :  0\n",
      "time 마지막 3자리수가 000이 아닌 것의 갯수 :  0\n",
      "time 마지막 4자리수가 0000이 아닌 것의 갯수 :  1292184\n",
      "time 처음 4자리수가 2020이 아닌 것의 갯수 :  0\n",
      "time 처음 5자리수가 20201이 아닌 것의 갯수 :  0\n",
      "time 처음 7자리수가 2020112이 아닌 것의 갯수 :  1049076\n"
     ]
    }
   ],
   "source": [
    "times= total.time.to_frame()\n",
    "times['end4'] =times.time.astype(\"str\").str[-4:]\n",
    "times['end3'] =times.time.astype(\"str\").str[-3:]\n",
    "times['start4'] =times.time.astype(\"str\").str[:4]\n",
    "times['start5'] =times.time.astype(\"str\").str[:5]\n",
    "times['start7'] =times.time.astype(\"str\").str[:7]\n",
    "times['Len'] =times.time.astype('str').str.len()\n",
    "\n",
    "print(\"time 길이가 14가 아닌 것의 갯수 : \",len(times.loc[times.Len !=14]))\n",
    "print(\"time 마지막 3자리수가 000이 아닌 것의 갯수 : \",len(times.loc[times.end3 !='000']))\n",
    "print(\"time 마지막 4자리수가 0000이 아닌 것의 갯수 : \",len(times.loc[times.end4 !='0000']))\n",
    "print(\"time 처음 4자리수가 2020이 아닌 것의 갯수 : \",len(times.loc[times.start4 !='2020']))\n",
    "print(\"time 처음 5자리수가 20201이 아닌 것의 갯수 : \",len(times.loc[times.start5 !='20201']))\n",
    "print(\"time 처음 7자리수가 2020112이 아닌 것의 갯수 : \",len(times.loc[times.start7 !='2020112']))"
   ]
  },
  {
   "cell_type": "markdown",
   "metadata": {},
   "source": [
    "시간데이터는 년도(4) + 월 (2) + 일자(2) + 시간(2) + 분(2) + 초(2) 예상 -> 아닐 가능성 배제 못함    \n",
    "\n",
    "problem 데이터의 경우 "
   ]
  },
  {
   "cell_type": "markdown",
   "metadata": {},
   "source": [
    "# object_columns(fwver) EDA"
   ]
  },
  {
   "cell_type": "code",
   "execution_count": 100,
   "metadata": {},
   "outputs": [
    {
     "name": "stdout",
     "output_type": "stream",
     "text": [
      "fwver lenths :  28\n"
     ]
    },
    {
     "data": {
      "text/plain": [
       "array(['05.15.2138', '04.22.1750', '04.16.3553', '04.33.1261',\n",
       "       '04.22.1778', '04.33.1185', '04.16.3571', '05.66.3571',\n",
       "       '03.11.1149', '03.11.1167', '04.82.1684', '04.82.1778',\n",
       "       '04.33.1149', nan, '05.66.3237', '04.73.2237', '09.17.1431',\n",
       "       '04.22.1684', '05.15.2120', '04.33.1125', '05.15.2122',\n",
       "       '04.22.1666', '04.22.1656', '04.16.3439', '04.73.2571',\n",
       "       '05.15.2114', '04.16.3345', '04.22.1442'], dtype=object)"
      ]
     },
     "execution_count": 100,
     "metadata": {},
     "output_type": "execute_result"
    }
   ],
   "source": [
    "print(\"fwver lenths : \",len(total['fwver'].unique()))\n",
    "total['fwver'].unique()"
   ]
  },
  {
   "cell_type": "code",
   "execution_count": 107,
   "metadata": {},
   "outputs": [
    {
     "name": "stdout",
     "output_type": "stream",
     "text": [
      "fwver nan :  62844  , 3.99 %\n",
      "fwver(train) nan :  40080  , 4.84 %\n",
      "fwver(test) nan :  22764  , 3.04 %\n"
     ]
    }
   ],
   "source": [
    "print(\"fwver nan : \",len(total['fwver'].loc[total['fwver'].isnull()]),\" ,\",round(len(total['fwver'].loc[total['fwver'].isnull()])/len(total)*100,2),\"%\")\n",
    "print(\"fwver(train) nan : \",len(trq['fwver'].loc[trq['fwver'].isnull()]),\" ,\",round(len(trq['fwver'].loc[trq['fwver'].isnull()])/len(trq)*100,2),\"%\")\n",
    "print(\"fwver(test) nan : \",len(tsq['fwver'].loc[tsq['fwver'].isnull()]),\" ,\",round(len(tsq['fwver'].loc[tsq['fwver'].isnull()])/len(tsq)*100,2),\"%\")"
   ]
  },
  {
   "cell_type": "code",
   "execution_count": 115,
   "metadata": {},
   "outputs": [],
   "source": [
    "twver_nan=total.loc[total['fwver'].isnull()].reset_index(drop=True)"
   ]
  },
  {
   "cell_type": "code",
   "execution_count": 116,
   "metadata": {},
   "outputs": [
    {
     "data": {
      "text/html": [
       "<div>\n",
       "<style scoped>\n",
       "    .dataframe tbody tr th:only-of-type {\n",
       "        vertical-align: middle;\n",
       "    }\n",
       "\n",
       "    .dataframe tbody tr th {\n",
       "        vertical-align: top;\n",
       "    }\n",
       "\n",
       "    .dataframe thead th {\n",
       "        text-align: right;\n",
       "    }\n",
       "</style>\n",
       "<table border=\"1\" class=\"dataframe\">\n",
       "  <thead>\n",
       "    <tr style=\"text-align: right;\">\n",
       "      <th></th>\n",
       "      <th>time</th>\n",
       "      <th>user_id</th>\n",
       "      <th>fwver</th>\n",
       "      <th>quality_0</th>\n",
       "      <th>quality_1</th>\n",
       "      <th>quality_2</th>\n",
       "      <th>quality_3</th>\n",
       "      <th>quality_4</th>\n",
       "      <th>quality_5</th>\n",
       "      <th>quality_6</th>\n",
       "      <th>quality_7</th>\n",
       "      <th>quality_8</th>\n",
       "      <th>quality_9</th>\n",
       "      <th>quality_10</th>\n",
       "      <th>quality_11</th>\n",
       "      <th>quality_12</th>\n",
       "      <th>data</th>\n",
       "    </tr>\n",
       "  </thead>\n",
       "  <tbody>\n",
       "    <tr>\n",
       "      <th>0</th>\n",
       "      <td>20201120010000</td>\n",
       "      <td>10693</td>\n",
       "      <td>NaN</td>\n",
       "      <td>NaN</td>\n",
       "      <td>NaN</td>\n",
       "      <td>NaN</td>\n",
       "      <td>0</td>\n",
       "      <td>0</td>\n",
       "      <td>0.0</td>\n",
       "      <td>0</td>\n",
       "      <td>0.0</td>\n",
       "      <td>NaN</td>\n",
       "      <td>0.0</td>\n",
       "      <td>0.0</td>\n",
       "      <td>0</td>\n",
       "      <td>0</td>\n",
       "      <td>0</td>\n",
       "    </tr>\n",
       "    <tr>\n",
       "      <th>1</th>\n",
       "      <td>20201120010000</td>\n",
       "      <td>10693</td>\n",
       "      <td>NaN</td>\n",
       "      <td>NaN</td>\n",
       "      <td>NaN</td>\n",
       "      <td>NaN</td>\n",
       "      <td>0</td>\n",
       "      <td>0</td>\n",
       "      <td>0.0</td>\n",
       "      <td>0</td>\n",
       "      <td>0.0</td>\n",
       "      <td>NaN</td>\n",
       "      <td>0.0</td>\n",
       "      <td>0.0</td>\n",
       "      <td>0</td>\n",
       "      <td>0</td>\n",
       "      <td>0</td>\n",
       "    </tr>\n",
       "    <tr>\n",
       "      <th>2</th>\n",
       "      <td>20201120010000</td>\n",
       "      <td>10693</td>\n",
       "      <td>NaN</td>\n",
       "      <td>NaN</td>\n",
       "      <td>NaN</td>\n",
       "      <td>NaN</td>\n",
       "      <td>0</td>\n",
       "      <td>0</td>\n",
       "      <td>0.0</td>\n",
       "      <td>0</td>\n",
       "      <td>0.0</td>\n",
       "      <td>NaN</td>\n",
       "      <td>0.0</td>\n",
       "      <td>0.0</td>\n",
       "      <td>0</td>\n",
       "      <td>0</td>\n",
       "      <td>0</td>\n",
       "    </tr>\n",
       "    <tr>\n",
       "      <th>3</th>\n",
       "      <td>20201120010000</td>\n",
       "      <td>10693</td>\n",
       "      <td>NaN</td>\n",
       "      <td>NaN</td>\n",
       "      <td>NaN</td>\n",
       "      <td>NaN</td>\n",
       "      <td>0</td>\n",
       "      <td>0</td>\n",
       "      <td>0.0</td>\n",
       "      <td>0</td>\n",
       "      <td>0.0</td>\n",
       "      <td>NaN</td>\n",
       "      <td>0.0</td>\n",
       "      <td>0.0</td>\n",
       "      <td>0</td>\n",
       "      <td>0</td>\n",
       "      <td>0</td>\n",
       "    </tr>\n",
       "    <tr>\n",
       "      <th>4</th>\n",
       "      <td>20201120010000</td>\n",
       "      <td>10693</td>\n",
       "      <td>NaN</td>\n",
       "      <td>NaN</td>\n",
       "      <td>NaN</td>\n",
       "      <td>NaN</td>\n",
       "      <td>0</td>\n",
       "      <td>0</td>\n",
       "      <td>0.0</td>\n",
       "      <td>0</td>\n",
       "      <td>0.0</td>\n",
       "      <td>NaN</td>\n",
       "      <td>0.0</td>\n",
       "      <td>0.0</td>\n",
       "      <td>0</td>\n",
       "      <td>0</td>\n",
       "      <td>0</td>\n",
       "    </tr>\n",
       "    <tr>\n",
       "      <th>...</th>\n",
       "      <td>...</td>\n",
       "      <td>...</td>\n",
       "      <td>...</td>\n",
       "      <td>...</td>\n",
       "      <td>...</td>\n",
       "      <td>...</td>\n",
       "      <td>...</td>\n",
       "      <td>...</td>\n",
       "      <td>...</td>\n",
       "      <td>...</td>\n",
       "      <td>...</td>\n",
       "      <td>...</td>\n",
       "      <td>...</td>\n",
       "      <td>...</td>\n",
       "      <td>...</td>\n",
       "      <td>...</td>\n",
       "      <td>...</td>\n",
       "    </tr>\n",
       "    <tr>\n",
       "      <th>62839</th>\n",
       "      <td>20201111213000</td>\n",
       "      <td>44935</td>\n",
       "      <td>NaN</td>\n",
       "      <td>NaN</td>\n",
       "      <td>NaN</td>\n",
       "      <td>NaN</td>\n",
       "      <td>0</td>\n",
       "      <td>0</td>\n",
       "      <td>0.0</td>\n",
       "      <td>0</td>\n",
       "      <td>0.0</td>\n",
       "      <td>NaN</td>\n",
       "      <td>NaN</td>\n",
       "      <td>2.0</td>\n",
       "      <td>0</td>\n",
       "      <td>0</td>\n",
       "      <td>1</td>\n",
       "    </tr>\n",
       "    <tr>\n",
       "      <th>62840</th>\n",
       "      <td>20201111213000</td>\n",
       "      <td>44935</td>\n",
       "      <td>NaN</td>\n",
       "      <td>NaN</td>\n",
       "      <td>NaN</td>\n",
       "      <td>NaN</td>\n",
       "      <td>0</td>\n",
       "      <td>0</td>\n",
       "      <td>0.0</td>\n",
       "      <td>0</td>\n",
       "      <td>0.0</td>\n",
       "      <td>NaN</td>\n",
       "      <td>NaN</td>\n",
       "      <td>2.0</td>\n",
       "      <td>0</td>\n",
       "      <td>0</td>\n",
       "      <td>1</td>\n",
       "    </tr>\n",
       "    <tr>\n",
       "      <th>62841</th>\n",
       "      <td>20201111213000</td>\n",
       "      <td>44935</td>\n",
       "      <td>NaN</td>\n",
       "      <td>NaN</td>\n",
       "      <td>NaN</td>\n",
       "      <td>NaN</td>\n",
       "      <td>0</td>\n",
       "      <td>0</td>\n",
       "      <td>0.0</td>\n",
       "      <td>0</td>\n",
       "      <td>0.0</td>\n",
       "      <td>NaN</td>\n",
       "      <td>NaN</td>\n",
       "      <td>2.0</td>\n",
       "      <td>0</td>\n",
       "      <td>0</td>\n",
       "      <td>1</td>\n",
       "    </tr>\n",
       "    <tr>\n",
       "      <th>62842</th>\n",
       "      <td>20201111213000</td>\n",
       "      <td>44935</td>\n",
       "      <td>NaN</td>\n",
       "      <td>NaN</td>\n",
       "      <td>NaN</td>\n",
       "      <td>NaN</td>\n",
       "      <td>0</td>\n",
       "      <td>0</td>\n",
       "      <td>0.0</td>\n",
       "      <td>0</td>\n",
       "      <td>0.0</td>\n",
       "      <td>NaN</td>\n",
       "      <td>NaN</td>\n",
       "      <td>2.0</td>\n",
       "      <td>0</td>\n",
       "      <td>0</td>\n",
       "      <td>1</td>\n",
       "    </tr>\n",
       "    <tr>\n",
       "      <th>62843</th>\n",
       "      <td>20201111213000</td>\n",
       "      <td>44935</td>\n",
       "      <td>NaN</td>\n",
       "      <td>NaN</td>\n",
       "      <td>NaN</td>\n",
       "      <td>NaN</td>\n",
       "      <td>0</td>\n",
       "      <td>0</td>\n",
       "      <td>0.0</td>\n",
       "      <td>0</td>\n",
       "      <td>0.0</td>\n",
       "      <td>NaN</td>\n",
       "      <td>NaN</td>\n",
       "      <td>2.0</td>\n",
       "      <td>0</td>\n",
       "      <td>0</td>\n",
       "      <td>1</td>\n",
       "    </tr>\n",
       "  </tbody>\n",
       "</table>\n",
       "<p>62844 rows × 17 columns</p>\n",
       "</div>"
      ],
      "text/plain": [
       "                 time  user_id fwver  quality_0  quality_1  quality_2  \\\n",
       "0      20201120010000    10693   NaN        NaN        NaN        NaN   \n",
       "1      20201120010000    10693   NaN        NaN        NaN        NaN   \n",
       "2      20201120010000    10693   NaN        NaN        NaN        NaN   \n",
       "3      20201120010000    10693   NaN        NaN        NaN        NaN   \n",
       "4      20201120010000    10693   NaN        NaN        NaN        NaN   \n",
       "...               ...      ...   ...        ...        ...        ...   \n",
       "62839  20201111213000    44935   NaN        NaN        NaN        NaN   \n",
       "62840  20201111213000    44935   NaN        NaN        NaN        NaN   \n",
       "62841  20201111213000    44935   NaN        NaN        NaN        NaN   \n",
       "62842  20201111213000    44935   NaN        NaN        NaN        NaN   \n",
       "62843  20201111213000    44935   NaN        NaN        NaN        NaN   \n",
       "\n",
       "       quality_3  quality_4  quality_5  quality_6  quality_7  quality_8  \\\n",
       "0              0          0        0.0          0        0.0        NaN   \n",
       "1              0          0        0.0          0        0.0        NaN   \n",
       "2              0          0        0.0          0        0.0        NaN   \n",
       "3              0          0        0.0          0        0.0        NaN   \n",
       "4              0          0        0.0          0        0.0        NaN   \n",
       "...          ...        ...        ...        ...        ...        ...   \n",
       "62839          0          0        0.0          0        0.0        NaN   \n",
       "62840          0          0        0.0          0        0.0        NaN   \n",
       "62841          0          0        0.0          0        0.0        NaN   \n",
       "62842          0          0        0.0          0        0.0        NaN   \n",
       "62843          0          0        0.0          0        0.0        NaN   \n",
       "\n",
       "       quality_9  quality_10  quality_11  quality_12  data  \n",
       "0            0.0         0.0           0           0     0  \n",
       "1            0.0         0.0           0           0     0  \n",
       "2            0.0         0.0           0           0     0  \n",
       "3            0.0         0.0           0           0     0  \n",
       "4            0.0         0.0           0           0     0  \n",
       "...          ...         ...         ...         ...   ...  \n",
       "62839        NaN         2.0           0           0     1  \n",
       "62840        NaN         2.0           0           0     1  \n",
       "62841        NaN         2.0           0           0     1  \n",
       "62842        NaN         2.0           0           0     1  \n",
       "62843        NaN         2.0           0           0     1  \n",
       "\n",
       "[62844 rows x 17 columns]"
      ]
     },
     "execution_count": 116,
     "metadata": {},
     "output_type": "execute_result"
    }
   ],
   "source": [
    "twver_nan"
   ]
  },
  {
   "cell_type": "code",
   "execution_count": null,
   "metadata": {},
   "outputs": [],
   "source": []
  }
 ],
 "metadata": {
  "kernelspec": {
   "display_name": "Python 3",
   "language": "python",
   "name": "python3"
  },
  "language_info": {
   "codemirror_mode": {
    "name": "ipython",
    "version": 3
   },
   "file_extension": ".py",
   "mimetype": "text/x-python",
   "name": "python",
   "nbconvert_exporter": "python",
   "pygments_lexer": "ipython3",
   "version": "3.7.9"
  }
 },
 "nbformat": 4,
 "nbformat_minor": 4
}
